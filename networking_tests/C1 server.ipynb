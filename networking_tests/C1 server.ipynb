{
 "cells": [
  {
   "cell_type": "code",
   "execution_count": null,
   "metadata": {},
   "outputs": [
    {
     "name": "stdout",
     "output_type": "stream",
     "text": [
      "MSI\n",
      "Connection from: ('10.0.0.37', 54274)\n",
      "21\n",
      "11\n",
      "9\n",
      "9\n",
      "9123\n"
     ]
    }
   ],
   "source": [
    "#!/usr/bin/env python\n",
    "#_*_ coding: utf8 _*_\n",
    "#server should be on linux machine to get info from optitrack\n",
    "import socket\n",
    "#host is always server (reciever IP)\n",
    "\n",
    "HOST = \"10.0.0.221\"\n",
    "PORT = 1236\n",
    "\n",
    "def Main():\n",
    "\n",
    "    print(socket.gethostname())\n",
    "\n",
    "    mySocket = socket.socket()\n",
    "    mySocket.bind((HOST,PORT))\n",
    "\n",
    "    mySocket.listen(1)\n",
    "    conn, addr = mySocket.accept()\n",
    "    print (\"Connection from: \" + str(addr))\n",
    "    while True:\n",
    "        data = conn.recv(1024).decode()\n",
    "\n",
    "        print(data)\n",
    "        \n",
    "    conn.close()\n",
    "\n",
    "# if __name__ == '__main__':\n",
    "#     Main()\n",
    "Main()\n"
   ]
  },
  {
   "cell_type": "code",
   "execution_count": null,
   "metadata": {},
   "outputs": [],
   "source": []
  }
 ],
 "metadata": {
  "kernelspec": {
   "display_name": "Python 3",
   "language": "python",
   "name": "python3"
  },
  "language_info": {
   "codemirror_mode": {
    "name": "ipython",
    "version": 3
   },
   "file_extension": ".py",
   "mimetype": "text/x-python",
   "name": "python",
   "nbconvert_exporter": "python",
   "pygments_lexer": "ipython3",
   "version": "3.8.3"
  }
 },
 "nbformat": 4,
 "nbformat_minor": 4
}
