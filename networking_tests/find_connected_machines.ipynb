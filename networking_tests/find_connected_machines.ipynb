{
 "cells": [
  {
   "cell_type": "code",
   "execution_count": 77,
   "metadata": {},
   "outputs": [],
   "source": [
    "import socket\n",
    "import os"
   ]
  },
  {
   "cell_type": "code",
   "execution_count": null,
   "metadata": {},
   "outputs": [],
   "source": [
    "for i in range(255):\n",
    "    command=['ping', '-n', '1','-w','100', '10.0.0.'+str(i)]\n",
    "    subprocess.call(command)\n",
    "\n",
    "arpa = subprocess.check_output((\"arp\", \"-a\")).decode(\"ascii\")\n",
    "n_devices=len([x for x in arpa.split('\\n') if '10.0.0.' in x and  \n",
    "    all(y not in x for y in ['10.0.0.1 ','10.0.0.255']) ])"
   ]
  },
  {
   "cell_type": "code",
   "execution_count": null,
   "metadata": {},
   "outputs": [],
   "source": []
  },
  {
   "cell_type": "code",
   "execution_count": 93,
   "metadata": {},
   "outputs": [
    {
     "data": {
      "text/plain": [
       "['\\n',\n",
       " 'Interface: 192.168.56.1 --- 0x5\\n',\n",
       " '  Internet Address      Physical Address      Type\\n',\n",
       " '  192.168.56.255        ff-ff-ff-ff-ff-ff     static    \\n',\n",
       " '  224.0.0.2             01-00-5e-00-00-02     static    \\n',\n",
       " '  224.0.0.7             01-00-5e-00-00-07     static    \\n',\n",
       " '  224.0.0.22            01-00-5e-00-00-16     static    \\n',\n",
       " '  224.0.0.113           01-00-5e-00-00-71     static    \\n',\n",
       " '  224.0.0.251           01-00-5e-00-00-fb     static    \\n',\n",
       " '  224.0.0.252           01-00-5e-00-00-fc     static    \\n',\n",
       " '  239.255.255.250       01-00-5e-7f-ff-fa     static    \\n',\n",
       " '  255.255.255.255       ff-ff-ff-ff-ff-ff     static    \\n',\n",
       " '\\n',\n",
       " 'Interface: 192.168.152.217 --- 0xb\\n',\n",
       " '  Internet Address      Physical Address      Type\\n',\n",
       " '  192.168.152.107       e2-46-f6-79-ef-04     dynamic   \\n',\n",
       " '  192.168.152.255       ff-ff-ff-ff-ff-ff     static    \\n',\n",
       " '  224.0.0.2             01-00-5e-00-00-02     static    \\n',\n",
       " '  224.0.0.22            01-00-5e-00-00-16     static    \\n',\n",
       " '  224.0.0.113           01-00-5e-00-00-71     static    \\n',\n",
       " '  224.0.0.251           01-00-5e-00-00-fb     static    \\n',\n",
       " '  224.0.0.252           01-00-5e-00-00-fc     static    \\n',\n",
       " '  239.255.255.250       01-00-5e-7f-ff-fa     static    \\n',\n",
       " '  255.255.255.255       ff-ff-ff-ff-ff-ff     static    \\n']"
      ]
     },
     "execution_count": 93,
     "metadata": {},
     "output_type": "execute_result"
    }
   ],
   "source": [
    "devices = []\n",
    "for device in os.popen('arp -a'): devices.append(device)\n",
    "devices"
   ]
  },
  {
   "cell_type": "code",
   "execution_count": null,
   "metadata": {},
   "outputs": [],
   "source": []
  },
  {
   "cell_type": "code",
   "execution_count": null,
   "metadata": {},
   "outputs": [],
   "source": []
  },
  {
   "cell_type": "code",
   "execution_count": null,
   "metadata": {},
   "outputs": [],
   "source": []
  },
  {
   "cell_type": "code",
   "execution_count": 72,
   "metadata": {},
   "outputs": [
    {
     "name": "stdout",
     "output_type": "stream",
     "text": [
      "192.168.56.255\n",
      "224.0.0.2\n",
      "('all-routers.mcast.net', [], ['224.0.0.2'])\n",
      "224.0.0.7\n",
      "('st-routers.mcast.net', [], ['224.0.0.7'])\n",
      "224.0.0.22\n",
      "('igmp.mcast.net', [], ['224.0.0.22'])\n",
      "224.0.0.251\n",
      "224.0.0.252\n",
      "239.255.255.250\n",
      "255.255.255.255\n",
      "10.0.0.1\n",
      "10.0.0.100\n",
      "('HPA5219F.phub.net.cable.rogers.com', [], ['10.0.0.100'])\n",
      "10.0.0.255\n",
      "224.0.0.2\n",
      "('all-routers.mcast.net', [], ['224.0.0.2'])\n",
      "224.0.0.22\n",
      "('igmp.mcast.net', [], ['224.0.0.22'])\n",
      "224.0.0.113\n",
      "224.0.0.251\n",
      "224.0.0.252\n",
      "239.255.255.250\n",
      "255.255.255.255\n"
     ]
    }
   ],
   "source": [
    "for device in devices:\n",
    "    try:\n",
    "        IP  = device.split()[0]\n",
    "        #print(IP)\n",
    "        try:\n",
    "            ip_check = float(IP[0])\n",
    "            print(IP)\n",
    "            print(socket.gethostbyaddr(IP))\n",
    "        except:\n",
    "            pass\n",
    "            \n",
    "    except:\n",
    "        pass"
   ]
  },
  {
   "cell_type": "code",
   "execution_count": 76,
   "metadata": {},
   "outputs": [
    {
     "name": "stdout",
     "output_type": "stream",
     "text": [
      " \n",
      "Interface name : Wi-Fi \n",
      "There are 8 networks currently visible. \n",
      "\n",
      "SSID 1 : Stormy\n",
      "    Network type            : Infrastructure\n",
      "    Authentication          : WPA2-Personal\n",
      "    Encryption              : CCMP \n",
      "\n",
      "SSID 2 : 218\n",
      "    Network type            : Infrastructure\n",
      "    Authentication          : WPA2-Personal\n",
      "    Encryption              : CCMP \n",
      "\n",
      "SSID 3 : VIRGIN842\n",
      "    Network type            : Infrastructure\n",
      "    Authentication          : WPA2-Personal\n",
      "    Encryption              : CCMP \n",
      "\n",
      "SSID 4 : Moussianho\n",
      "    Network type            : Infrastructure\n",
      "    Authentication          : WPA2-Personal\n",
      "    Encryption              : CCMP \n",
      "\n",
      "SSID 5 : \n",
      "    Network type            : Infrastructure\n",
      "    Authentication          : WPA2-Enterprise\n",
      "    Encryption              : CCMP \n",
      "\n",
      "SSID 6 : Zoomtel\n",
      "    Network type            : Infrastructure\n",
      "    Authentication          : WPA2-Personal\n",
      "    Encryption              : CCMP \n",
      "\n",
      "SSID 7 : budiman-internet\n",
      "    Network type            : Infrastructure\n",
      "    Authentication          : WPA2-Personal\n",
      "    Encryption              : CCMP \n",
      "\n",
      "SSID 8 : Cat House\n",
      "    Network type            : Infrastructure\n",
      "    Authentication          : WPA2-Personal\n",
      "    Encryption              : CCMP \n",
      "\n",
      "\n"
     ]
    }
   ],
   "source": [
    "import subprocess\n",
    "  \n",
    "# using the check_output() for having the network term retrieval\n",
    "devices = subprocess.check_output(['netsh','wlan','show','network'])\n",
    "  \n",
    "# decode it to strings\n",
    "devices = devices.decode('ascii')\n",
    "devices= devices.replace(\"\\r\",\"\")\n",
    "# displaying the information\n",
    "print(devices)"
   ]
  },
  {
   "cell_type": "code",
   "execution_count": null,
   "metadata": {},
   "outputs": [],
   "source": []
  },
  {
   "cell_type": "code",
   "execution_count": 38,
   "metadata": {},
   "outputs": [
    {
     "name": "stdout",
     "output_type": "stream",
     "text": [
      "b' \\r\\nInterface name : Wi-Fi \\r\\nThere are 1 networks currently visible. \\r\\n\\r\\nSSID 1 : opl-bpo1\\r\\n    Network type            : Infrastructure\\r\\n    Authentication          : Open\\r\\n    Encryption              : None \\r\\n\\r\\n'\n"
     ]
    }
   ],
   "source": [
    "devices"
   ]
  },
  {
   "cell_type": "code",
   "execution_count": null,
   "metadata": {},
   "outputs": [],
   "source": []
  }
 ],
 "metadata": {
  "kernelspec": {
   "display_name": "Python 3",
   "language": "python",
   "name": "python3"
  },
  "language_info": {
   "codemirror_mode": {
    "name": "ipython",
    "version": 3
   },
   "file_extension": ".py",
   "mimetype": "text/x-python",
   "name": "python",
   "nbconvert_exporter": "python",
   "pygments_lexer": "ipython3",
   "version": "3.8.3"
  }
 },
 "nbformat": 4,
 "nbformat_minor": 4
}
