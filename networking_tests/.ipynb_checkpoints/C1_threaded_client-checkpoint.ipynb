{
 "cells": [
  {
   "cell_type": "code",
   "execution_count": null,
   "metadata": {},
   "outputs": [],
   "source": [
    "import socket\n",
    "import time\n",
    "from threading import Thread\n",
    "\n",
    "HOSTS = [\"192.168.137.124\",\n",
    "        \"192.168.137.178\"]\n",
    "PORT = 1236\n",
    "\n",
    "connections = []\n",
    "def connect(IP, PORT):\n",
    "    global connections\n",
    "    try:\n",
    "        mySocket = socket.socket(socket.AF_INET, socket.SOCK_STREAM)\n",
    "        mySocket.connect((IP,PORT))\n",
    "        connections.append(mySocket)\n",
    "    except:\n",
    "        pass\n",
    "\n",
    "def Messenger():\n",
    "    global message\n",
    "    message = input(\"->\")\n",
    "    while message != \"q\":\n",
    "        message = input(\"->\")\n",
    "        for s in connections:\n",
    "            try:\n",
    "                s.send(message.encode())\n",
    "            except:\n",
    "                pass\n",
    "\n",
    "T0 = Thread(Messenger)\n",
    "\n",
    "for IP in HOSTS:\n",
    "    T = Thread(target = connect, args = (IP, PORT))\n",
    "    T.start()\n",
    "         "
   ]
  },
  {
   "cell_type": "code",
   "execution_count": 2,
   "metadata": {},
   "outputs": [
    {
     "data": {
      "text/plain": [
       "'q'"
      ]
     },
     "execution_count": 2,
     "metadata": {},
     "output_type": "execute_result"
    }
   ],
   "source": []
  },
  {
   "cell_type": "code",
   "execution_count": 3,
   "metadata": {},
   "outputs": [
    {
     "name": "stdout",
     "output_type": "stream",
     "text": [
      "->a\n",
      "->a\n",
      "->a\n",
      "->t\n",
      "->q\n",
      "q test\n"
     ]
    }
   ],
   "source": [
    "def Messenger():\n",
    "    global message\n",
    "    message = input(\"->\")\n",
    "    while message != \"q\":\n",
    "        message = input(\"->\")\n",
    "\n"
   ]
  },
  {
   "cell_type": "code",
   "execution_count": null,
   "metadata": {},
   "outputs": [],
   "source": [
    "#try establishing connections\n",
    "#try sending to all\n",
    "\n",
    "def Main():\n",
    "    mySocket = socket.socket(socket.AF_INET, socket.SOCK_STREAM)\n",
    "    mySocket.connect((HOST,PORT))\n",
    "\n",
    "    message = input(\" -> \")\n",
    "\n",
    "    while message != 'q':\n",
    "        try:\n",
    "            mySocket.send(message.encode())\n",
    "\n",
    "        message = input(\" -> \")\n",
    "\n",
    "    mySocket.close()\n",
    "\n",
    "Main()"
   ]
  }
 ],
 "metadata": {
  "kernelspec": {
   "display_name": "Python 3",
   "language": "python",
   "name": "python3"
  },
  "language_info": {
   "codemirror_mode": {
    "name": "ipython",
    "version": 3
   },
   "file_extension": ".py",
   "mimetype": "text/x-python",
   "name": "python",
   "nbconvert_exporter": "python",
   "pygments_lexer": "ipython3",
   "version": "3.8.3"
  }
 },
 "nbformat": 4,
 "nbformat_minor": 4
}
