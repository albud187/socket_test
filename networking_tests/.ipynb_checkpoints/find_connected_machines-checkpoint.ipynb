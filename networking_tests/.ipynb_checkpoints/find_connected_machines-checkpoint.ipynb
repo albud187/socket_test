{
 "cells": [
  {
   "cell_type": "code",
   "execution_count": 3,
   "metadata": {},
   "outputs": [],
   "source": [
    "import socket\n",
    "import os"
   ]
  },
  {
   "cell_type": "code",
   "execution_count": 29,
   "metadata": {},
   "outputs": [],
   "source": [
    "devices = []\n",
    "for device in os.popen('arp -a'): devices.append(device)"
   ]
  },
  {
   "cell_type": "code",
   "execution_count": null,
   "metadata": {},
   "outputs": [],
   "source": [
    "for device in devices:\n",
    "    try:\n",
    "        IP  = device.split()[0]\n",
    "        #print(IP)\n",
    "        try:\n",
    "            ip_check = float(IP[0])\n",
    "            print(IP)\n",
    "            print(socket.gethostbyaddr(IP))\n",
    "        except:\n",
    "            pass\n",
    "            \n",
    "    except:\n",
    "        pass"
   ]
  },
  {
   "cell_type": "code",
   "execution_count": 68,
   "metadata": {},
   "outputs": [
    {
     "name": "stdout",
     "output_type": "stream",
     "text": [
      " Interface name : Wi-Fi There are 1 networks currently visible. SSID 1 : opl-bpo1    Network type            : Infrastructure    Authentication          : Open    Encryption              : None \n"
     ]
    }
   ],
   "source": [
    "import subprocess\n",
    "  \n",
    "# using the check_output() for having the network term retrieval\n",
    "devices = subprocess.check_output(['netsh','wlan','show','network'])\n",
    "  \n",
    "# decode it to strings\n",
    "devices = devices.decode('ascii')\n",
    "devices= devices.replace(\"\\r\",\"\").replace(\"\\n\",\"\")\n",
    "# displaying the information\n",
    "print(devices)"
   ]
  },
  {
   "cell_type": "code",
   "execution_count": null,
   "metadata": {},
   "outputs": [],
   "source": []
  },
  {
   "cell_type": "code",
   "execution_count": 38,
   "metadata": {},
   "outputs": [
    {
     "name": "stdout",
     "output_type": "stream",
     "text": [
      "b' \\r\\nInterface name : Wi-Fi \\r\\nThere are 1 networks currently visible. \\r\\n\\r\\nSSID 1 : opl-bpo1\\r\\n    Network type            : Infrastructure\\r\\n    Authentication          : Open\\r\\n    Encryption              : None \\r\\n\\r\\n'\n"
     ]
    }
   ],
   "source": [
    "devices"
   ]
  },
  {
   "cell_type": "code",
   "execution_count": null,
   "metadata": {},
   "outputs": [],
   "source": []
  }
 ],
 "metadata": {
  "kernelspec": {
   "display_name": "Python 3",
   "language": "python",
   "name": "python3"
  },
  "language_info": {
   "codemirror_mode": {
    "name": "ipython",
    "version": 3
   },
   "file_extension": ".py",
   "mimetype": "text/x-python",
   "name": "python",
   "nbconvert_exporter": "python",
   "pygments_lexer": "ipython3",
   "version": "3.8.3"
  }
 },
 "nbformat": 4,
 "nbformat_minor": 4
}
