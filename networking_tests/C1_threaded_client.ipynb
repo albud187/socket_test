{
 "cells": [
  {
   "cell_type": "code",
   "execution_count": 5,
   "metadata": {},
   "outputs": [],
   "source": [
    "import socket\n",
    "import time\n",
    "from threading import Thread\n",
    "\n",
    "HOSTS = [\"192.168.137.124\",\n",
    "        \"192.168.137.178\"]\n",
    "PORT = 1236\n",
    "\n",
    "connections = []\n",
    "def connect(IP, PORT):\n",
    "    global connections\n",
    "    try:\n",
    "        mySocket = socket.socket(socket.AF_INET, socket.SOCK_STREAM)\n",
    "        mySocket.connect((IP,PORT))\n",
    "        connections.append(mySocket)\n",
    "    except:\n",
    "        pass\n",
    "\n",
    "def Messenger():\n",
    "    global message\n",
    "    message = input(\"->\")\n",
    "    while message != \"q\":\n",
    "        message = input(\"->\")\n",
    "        for s in connections:\n",
    "            try:\n",
    "                s.send(message.encode())\n",
    "            except:\n",
    "                pass\n",
    "\n",
    "T0 = Thread(target = Messenger)\n",
    "\n",
    "for IP in HOSTS:\n",
    "    T = Thread(target = connect, args = (IP, PORT))\n",
    "    T.start()\n",
    "         "
   ]
  },
  {
   "cell_type": "code",
   "execution_count": 15,
   "metadata": {},
   "outputs": [
    {
     "name": "stdout",
     "output_type": "stream",
     "text": [
      "->123\n",
      "->"
     ]
    },
    {
     "name": "stderr",
     "output_type": "stream",
     "text": [
      "Exception in thread Thread-10:\n",
      "Traceback (most recent call last):\n",
      "  File \"C:\\Users\\alfab\\anaconda3\\lib\\threading.py\", line 932, in _bootstrap_inner\n",
      "    self.run()\n",
      "  File \"C:\\Users\\alfab\\anaconda3\\lib\\threading.py\", line 870, in run\n",
      "    self._target(*self._args, **self._kwargs)\n",
      "  File \"<ipython-input-5-bab7358b747d>\", line 23, in Messenger\n",
      "EOFError: EOF when reading a line\n"
     ]
    }
   ],
   "source": [
    "T1 = Thread(target = Messenger)\n",
    "T1.start()"
   ]
  },
  {
   "cell_type": "code",
   "execution_count": null,
   "metadata": {},
   "outputs": [
    {
     "name": "stdout",
     "output_type": "stream",
     "text": [
      "->555\n",
      "->999999999\n",
      "->99999999\n",
      "->another message\n",
      "->msg\n",
      "->msg2\n",
      "->msg\n",
      "->m23\n"
     ]
    }
   ],
   "source": [
    "def Messenger():\n",
    "    global message\n",
    "    message = input(\"->\")\n",
    "    while message != \"q\":\n",
    "        message = input(\"->\")\n",
    "        for s in connections:\n",
    "            try:\n",
    "                s.send(message.encode())\n",
    "            except:\n",
    "                pass\n",
    "Messenger()\n"
   ]
  },
  {
   "cell_type": "code",
   "execution_count": null,
   "metadata": {},
   "outputs": [],
   "source": [
    "#try establishing connections\n",
    "#try sending to all\n",
    "\n",
    "def Main():\n",
    "    mySocket = socket.socket(socket.AF_INET, socket.SOCK_STREAM)\n",
    "    mySocket.connect((HOST,PORT))\n",
    "\n",
    "    message = input(\" -> \")\n",
    "\n",
    "    while message != 'q':\n",
    "        try:\n",
    "            mySocket.send(message.encode())\n",
    "\n",
    "        message = input(\" -> \")\n",
    "\n",
    "    mySocket.close()\n",
    "\n",
    "Main()"
   ]
  }
 ],
 "metadata": {
  "kernelspec": {
   "display_name": "Python 3",
   "language": "python",
   "name": "python3"
  },
  "language_info": {
   "codemirror_mode": {
    "name": "ipython",
    "version": 3
   },
   "file_extension": ".py",
   "mimetype": "text/x-python",
   "name": "python",
   "nbconvert_exporter": "python",
   "pygments_lexer": "ipython3",
   "version": "3.8.3"
  }
 },
 "nbformat": 4,
 "nbformat_minor": 4
}
