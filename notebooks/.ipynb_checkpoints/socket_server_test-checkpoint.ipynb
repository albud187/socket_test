{
 "cells": [
  {
   "cell_type": "code",
   "execution_count": null,
   "metadata": {},
   "outputs": [
    {
     "name": "stdout",
     "output_type": "stream",
     "text": [
      "roswork-VirtualBox\n",
      "Connection from: ('10.0.0.221', 51551)\n",
      "1\n",
      "3\n",
      "2\n"
     ]
    }
   ],
   "source": [
    "#!/usr/bin/env python\n",
    "#_*_ coding: utf8 _*_\n",
    "#server should be on linux machine to get info from optitrack\n",
    "import socket\n",
    "\n",
    "vector = [0,0,0]\n",
    "\n",
    "def Main():\n",
    "    global vector\n",
    "    host = \"10.0.0.37\"\n",
    "    port = 1236\n",
    "    print(socket.gethostname())\n",
    "\n",
    "    mySocket = socket.socket()\n",
    "    mySocket.bind((host,port))\n",
    "\n",
    "    mySocket.listen(1)\n",
    "    conn, addr = mySocket.accept()\n",
    "    print (\"Connection from: \" + str(addr))\n",
    "    while True:\n",
    "            data = conn.recv(1024).decode()\n",
    "            if not data:\n",
    "                    break\n",
    "            try:\n",
    "                input_vector = data.split(\",\")\n",
    "                \n",
    "                #conn.send(data.encode())\n",
    "                print (input_vector[0])\n",
    "                print (input_vector[1])\n",
    "                print (input_vector[2])\n",
    "                conn.send(input_vector.encode())\n",
    "\n",
    "            except:\n",
    "                pass\n",
    "    conn.close()\n",
    "\n",
    "# if __name__ == '__main__':\n",
    "#     Main()\n",
    "Main()\n"
   ]
  },
  {
   "cell_type": "code",
   "execution_count": null,
   "metadata": {},
   "outputs": [
    {
     "name": "stdout",
     "output_type": "stream",
     "text": [
      "roswork-VirtualBox\n",
      "Connection from: ('10.0.0.221', 51670)\n",
      "from connected  user: 1,2,3\n",
      "sending: 1,2,3 from server999\n",
      "from connected  user: 1,2,3\n",
      "sending: 1,2,3 from server999\n",
      "from connected  user: 5,4,5\n",
      "sending: 5,4,5 from server999\n",
      "from connected  user: 5,5,5\n",
      "sending: 5,5,5 from server999\n"
     ]
    }
   ],
   "source": [
    "#!/usr/bin/env python\n",
    "#_*_ coding: utf8 _*_\n",
    "#server should be on linux machine to get info from optitrack\n",
    "import socket\n",
    "\n",
    "def Main():\n",
    "    host = \"10.0.0.37\"\n",
    "    port = 1236\n",
    "    print(socket.gethostname())\n",
    "\n",
    "    mySocket = socket.socket()\n",
    "    mySocket.bind((host,port))\n",
    "\n",
    "    mySocket.listen(1)\n",
    "    conn, addr = mySocket.accept()\n",
    "    print (\"Connection from: \" + str(addr))\n",
    "    while True:\n",
    "            data = conn.recv(1024).decode()\n",
    "            if not data:\n",
    "                    break\n",
    "            #print (\"from connected  user: \" + str(data))\n",
    "            input_vector = data.split(\",\")\n",
    "            print(input_vector[0])\n",
    "            print(input_vector[1])\n",
    "            print(input_vector[2])\n",
    "            print(\"\")\n",
    "\n",
    "    conn.close()\n",
    "\n",
    "# if __name__ == '__main__':\n",
    "#     Main()\n",
    "Main()"
   ]
  },
  {
   "cell_type": "code",
   "execution_count": 3,
   "metadata": {},
   "outputs": [
    {
     "data": {
      "text/plain": [
       "<socket.socket fd=42, family=AddressFamily.AF_INET, type=SocketKind.SOCK_STREAM, proto=0, laddr=('0.0.0.0', 35001)>"
      ]
     },
     "execution_count": 3,
     "metadata": {},
     "output_type": "execute_result"
    }
   ],
   "source": [
    "s"
   ]
  },
  {
   "cell_type": "code",
   "execution_count": null,
   "metadata": {},
   "outputs": [],
   "source": []
  }
 ],
 "metadata": {
  "kernelspec": {
   "display_name": "Python 3",
   "language": "python",
   "name": "python3"
  },
  "language_info": {
   "codemirror_mode": {
    "name": "ipython",
    "version": 3
   },
   "file_extension": ".py",
   "mimetype": "text/x-python",
   "name": "python",
   "nbconvert_exporter": "python",
   "pygments_lexer": "ipython3",
   "version": "3.8.10"
  }
 },
 "nbformat": 4,
 "nbformat_minor": 4
}
