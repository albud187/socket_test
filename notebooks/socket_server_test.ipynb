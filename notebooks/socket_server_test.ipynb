{
 "cells": [
  {
   "cell_type": "code",
   "execution_count": null,
   "metadata": {},
   "outputs": [
    {
     "name": "stdout",
     "output_type": "stream",
     "text": [
      "roswork-VirtualBox\n",
      "Connection from: ('10.0.0.221', 51551)\n",
      "1\n",
      "3\n",
      "2\n"
     ]
    }
   ],
   "source": [
    "#!/usr/bin/env python\n",
    "#_*_ coding: utf8 _*_\n",
    "#server should be on linux machine to get info from optitrack\n",
    "import socket\n",
    "\n",
    "vector = [0,0,0]\n",
    "\n",
    "def Main():\n",
    "    global vector\n",
    "    host = \"10.0.0.37\"\n",
    "    port = 1236\n",
    "    print(socket.gethostname())\n",
    "\n",
    "    mySocket = socket.socket()\n",
    "    mySocket.bind((host,port))\n",
    "\n",
    "    mySocket.listen(1)\n",
    "    conn, addr = mySocket.accept()\n",
    "    print (\"Connection from: \" + str(addr))\n",
    "    while True:\n",
    "            data = conn.recv(1024).decode()\n",
    "            if not data:\n",
    "                    break\n",
    "            try:\n",
    "                input_vector = data.split(\",\")\n",
    "                \n",
    "                #conn.send(data.encode())\n",
    "                print (input_vector[0])\n",
    "                print (input_vector[1])\n",
    "                print (input_vector[2])\n",
    "                conn.send(input_vector.encode())\n",
    "\n",
    "            except:\n",
    "                pass\n",
    "    conn.close()\n",
    "\n",
    "# if __name__ == '__main__':\n",
    "#     Main()\n",
    "Main()\n"
   ]
  },
  {
   "cell_type": "code",
   "execution_count": 1,
   "metadata": {},
   "outputs": [
    {
     "name": "stdout",
     "output_type": "stream",
     "text": [
      "roswork-VirtualBox\n",
      "Connection from: ('10.0.0.221', 51734)\n",
      "1\n",
      "2\n",
      "3\n",
      "\n",
      "5\n",
      "5\n",
      "5\n",
      "\n",
      "9\n",
      "9\n",
      "9\n",
      "\n"
     ]
    },
    {
     "ename": "ConnectionResetError",
     "evalue": "[Errno 104] Connection reset by peer",
     "output_type": "error",
     "traceback": [
      "\u001b[0;31m---------------------------------------------------------------------------\u001b[0m",
      "\u001b[0;31mConnectionResetError\u001b[0m                      Traceback (most recent call last)",
      "\u001b[0;32m<ipython-input-1-aabbb19aed39>\u001b[0m in \u001b[0;36m<module>\u001b[0;34m\u001b[0m\n\u001b[1;32m     30\u001b[0m \u001b[0;31m# if __name__ == '__main__':\u001b[0m\u001b[0;34m\u001b[0m\u001b[0;34m\u001b[0m\u001b[0;34m\u001b[0m\u001b[0m\n\u001b[1;32m     31\u001b[0m \u001b[0;31m#     Main()\u001b[0m\u001b[0;34m\u001b[0m\u001b[0;34m\u001b[0m\u001b[0;34m\u001b[0m\u001b[0m\n\u001b[0;32m---> 32\u001b[0;31m \u001b[0mMain\u001b[0m\u001b[0;34m(\u001b[0m\u001b[0;34m)\u001b[0m\u001b[0;34m\u001b[0m\u001b[0;34m\u001b[0m\u001b[0m\n\u001b[0m",
      "\u001b[0;32m<ipython-input-1-aabbb19aed39>\u001b[0m in \u001b[0;36mMain\u001b[0;34m()\u001b[0m\n\u001b[1;32m     16\u001b[0m     \u001b[0mprint\u001b[0m \u001b[0;34m(\u001b[0m\u001b[0;34m\"Connection from: \"\u001b[0m \u001b[0;34m+\u001b[0m \u001b[0mstr\u001b[0m\u001b[0;34m(\u001b[0m\u001b[0maddr\u001b[0m\u001b[0;34m)\u001b[0m\u001b[0;34m)\u001b[0m\u001b[0;34m\u001b[0m\u001b[0;34m\u001b[0m\u001b[0m\n\u001b[1;32m     17\u001b[0m     \u001b[0;32mwhile\u001b[0m \u001b[0;32mTrue\u001b[0m\u001b[0;34m:\u001b[0m\u001b[0;34m\u001b[0m\u001b[0;34m\u001b[0m\u001b[0m\n\u001b[0;32m---> 18\u001b[0;31m             \u001b[0mdata\u001b[0m \u001b[0;34m=\u001b[0m \u001b[0mconn\u001b[0m\u001b[0;34m.\u001b[0m\u001b[0mrecv\u001b[0m\u001b[0;34m(\u001b[0m\u001b[0;36m1024\u001b[0m\u001b[0;34m)\u001b[0m\u001b[0;34m.\u001b[0m\u001b[0mdecode\u001b[0m\u001b[0;34m(\u001b[0m\u001b[0;34m)\u001b[0m\u001b[0;34m\u001b[0m\u001b[0;34m\u001b[0m\u001b[0m\n\u001b[0m\u001b[1;32m     19\u001b[0m             \u001b[0;32mif\u001b[0m \u001b[0;32mnot\u001b[0m \u001b[0mdata\u001b[0m\u001b[0;34m:\u001b[0m\u001b[0;34m\u001b[0m\u001b[0;34m\u001b[0m\u001b[0m\n\u001b[1;32m     20\u001b[0m                     \u001b[0;32mbreak\u001b[0m\u001b[0;34m\u001b[0m\u001b[0;34m\u001b[0m\u001b[0m\n",
      "\u001b[0;31mConnectionResetError\u001b[0m: [Errno 104] Connection reset by peer"
     ]
    }
   ],
   "source": [
    "#!/usr/bin/env python\n",
    "#_*_ coding: utf8 _*_\n",
    "#server should be on linux machine to get info from optitrack\n",
    "import socket\n",
    "\n",
    "def Main():\n",
    "    host = \"10.0.0.37\"\n",
    "    port = 1236\n",
    "    print(socket.gethostname())\n",
    "\n",
    "    mySocket = socket.socket()\n",
    "    mySocket.bind((host,port))\n",
    "\n",
    "    mySocket.listen(1)\n",
    "    conn, addr = mySocket.accept()\n",
    "    print (\"Connection from: \" + str(addr))\n",
    "    while True:\n",
    "            data = conn.recv(1024).decode()\n",
    "            if not data:\n",
    "                    break\n",
    "            #print (\"from connected  user: \" + str(data))\n",
    "            input_vector = data.split(\",\")\n",
    "            print(input_vector[0])\n",
    "            print(input_vector[1])\n",
    "            print(input_vector[2])\n",
    "            print(\"\")\n",
    "\n",
    "    conn.close()\n",
    "\n",
    "# if __name__ == '__main__':\n",
    "#     Main()\n",
    "Main()"
   ]
  },
  {
   "cell_type": "code",
   "execution_count": 3,
   "metadata": {},
   "outputs": [
    {
     "data": {
      "text/plain": [
       "<socket.socket fd=42, family=AddressFamily.AF_INET, type=SocketKind.SOCK_STREAM, proto=0, laddr=('0.0.0.0', 35001)>"
      ]
     },
     "execution_count": 3,
     "metadata": {},
     "output_type": "execute_result"
    }
   ],
   "source": [
    "s"
   ]
  },
  {
   "cell_type": "code",
   "execution_count": null,
   "metadata": {},
   "outputs": [],
   "source": []
  }
 ],
 "metadata": {
  "kernelspec": {
   "display_name": "Python 3",
   "language": "python",
   "name": "python3"
  },
  "language_info": {
   "codemirror_mode": {
    "name": "ipython",
    "version": 3
   },
   "file_extension": ".py",
   "mimetype": "text/x-python",
   "name": "python",
   "nbconvert_exporter": "python",
   "pygments_lexer": "ipython3",
   "version": "3.8.10"
  }
 },
 "nbformat": 4,
 "nbformat_minor": 4
}
